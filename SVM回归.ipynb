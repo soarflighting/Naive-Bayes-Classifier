{
 "cells": [
  {
   "cell_type": "code",
   "execution_count": null,
   "metadata": {},
   "outputs": [],
   "source": [
    "import numpy as np\n",
    "import matplotlib.pyplot as plt\n",
    "from sklearn.datasets import load_boston\n",
    "from sklearn.svm import SVR\n",
    "from sklearn.preprocessing import StandardScaler\n",
    "from sklearn.metrics import mean_absolute_error,mean_squared_error,explained_variance_score,r2_score\n",
    "from sklearn.model_selection import train_test_split\n",
    "from sklearn.model_selection import GridSearchCV"
   ]
  },
  {
   "cell_type": "code",
   "execution_count": null,
   "metadata": {},
   "outputs": [],
   "source": [
    "# 加载数据集\n",
    "boston = load_boston()"
   ]
  },
  {
   "cell_type": "code",
   "execution_count": null,
   "metadata": {},
   "outputs": [],
   "source": [
    "x = boston.data\n",
    "y = boston.target"
   ]
  },
  {
   "cell_type": "code",
   "execution_count": null,
   "metadata": {},
   "outputs": [],
   "source": [
    "# 划分数据集\n",
    "x_train,x_test,y_train,y_test = train_test_split(x,y,test_size=0.2,random_state=0)\n",
    "\n",
    "# 预处理\n",
    "y_train = np.array(y_train).reshape(-1,1)\n",
    "y_test = np.array(y_test).reshape(-1,1)\n",
    "x_train = StandardScaler().fit_transform(x_train)\n",
    "x_test = StandardScaler().fit_transform(x_test)\n",
    "y_train = StandardScaler().fit_transform(y_train).ravel()\n",
    "y_test = StandardScaler().fit_transform(y_test).ravel()\n"
   ]
  },
  {
   "cell_type": "code",
   "execution_count": null,
   "metadata": {},
   "outputs": [],
   "source": [
    "# 设置超参数\n",
    "C = [0.1, 0.2, 0.5, 0.8, 0.9, 1, 2, 5, 10]\n",
    "kernel = 'rbf'\n",
    "gamma = [0.001, 0.01, 0.1, 0.2, 0.5, 0.8]\n",
    "epsilon = [0.01, 0.05, 0.1, 0.2, 0.5, 0.8]\n",
    "# 参数字典\n",
    "params_dict = {\n",
    "    \"C\":C,\n",
    "    'gamma':gamma,\n",
    "    'epsilon':epsilon\n",
    "}"
   ]
  },
  {
   "cell_type": "code",
   "execution_count": null,
   "metadata": {},
   "outputs": [],
   "source": [
    "# clf_svr = SVR()\n",
    "# clf_svr.fit(x_train,y_train)\n",
    "svr = SVR()\n",
    "gsCV = GridSearchCV(\n",
    "    estimator = svr,\n",
    "    param_grid = params_dict,\n",
    "    n_jobs = 2,\n",
    "    scoring = 'r2',\n",
    "    cv=6\n",
    ")\n",
    "gsCV.fit(x_train, y_train)"
   ]
  },
  {
   "cell_type": "code",
   "execution_count": null,
   "metadata": {},
   "outputs": [],
   "source": [
    "# 输出参数信息\n",
    "print(\"最佳度量值:\", gsCV.best_score_)\n",
    "print(\"最佳参数:\", gsCV.best_params_)\n",
    "print(\"最佳模型:\", gsCV.best_estimator_)"
   ]
  },
  {
   "cell_type": "code",
   "execution_count": null,
   "metadata": {},
   "outputs": [],
   "source": [
    "svr = SVR(C=gsCV.best_params_['C'], kernel=kernel, gamma=gsCV.best_params_['gamma'],\n",
    "          epsilon=gsCV.best_params_['epsilon'])\n",
    "svr.fit(x_train,y_train)"
   ]
  },
  {
   "cell_type": "code",
   "execution_count": null,
   "metadata": {},
   "outputs": [],
   "source": [
    "svr_pred = svr.predict(x_test)"
   ]
  },
  {
   "cell_type": "code",
   "execution_count": null,
   "metadata": {},
   "outputs": [],
   "source": [
    "mae = mean_absolute_error(y_test,svr_pred)\n",
    "mse = mean_squared_error(y_test,svr_pred)\n",
    "evs = explained_variance_score(y_test,svr_pred)\n",
    "r2 = r2_score(y_test,svr_pred)\n",
    "print(\"MAE：\", mae)\n",
    "print(\"MSE：\", mse)\n",
    "print(\"EVS：\", evs)\n",
    "print(\"R2：\", r2)"
   ]
  },
  {
   "cell_type": "code",
   "execution_count": null,
   "metadata": {},
   "outputs": [],
   "source": [
    "plt.plot(y_test,label='y_ture')\n",
    "plt.plot(svr_pred,label='svr')\n",
    "plt.legend()\n",
    "plt.show()"
   ]
  },
  {
   "cell_type": "code",
   "execution_count": null,
   "metadata": {},
   "outputs": [],
   "source": [
    "svr_pred_t = svr.predict(x_train)"
   ]
  },
  {
   "cell_type": "code",
   "execution_count": null,
   "metadata": {},
   "outputs": [],
   "source": [
    "plt.plot(y_train,label='y_ture')\n",
    "plt.plot(svr_pred_t,label='svr')\n",
    "plt.legend()\n",
    "plt.show()"
   ]
  },
  {
   "cell_type": "code",
   "execution_count": null,
   "metadata": {},
   "outputs": [],
   "source": [
    "origin_data = StandardScaler().inverse_transform(svr_pred)\n",
    "print(origin_data)"
   ]
  },
  {
   "cell_type": "code",
   "execution_count": null,
   "metadata": {},
   "outputs": [],
   "source": []
  }
 ],
 "metadata": {
  "kernelspec": {
   "display_name": "Python 3",
   "language": "python",
   "name": "python3"
  },
  "language_info": {
   "codemirror_mode": {
    "name": "ipython",
    "version": 3
   },
   "file_extension": ".py",
   "mimetype": "text/x-python",
   "name": "python",
   "nbconvert_exporter": "python",
   "pygments_lexer": "ipython3",
   "version": "3.5.4"
  }
 },
 "nbformat": 4,
 "nbformat_minor": 4
}
